{
  "nbformat": 4,
  "nbformat_minor": 0,
  "metadata": {
    "colab": {
      "provenance": [],
      "authorship_tag": "ABX9TyMVJazzpgvpS/HTBrKZrAKU"
    },
    "kernelspec": {
      "name": "python3",
      "display_name": "Python 3"
    },
    "language_info": {
      "name": "python"
    }
  },
  "cells": [
    {
      "cell_type": "code",
      "source": [
        "pip install yt-dlp\n"
      ],
      "metadata": {
        "colab": {
          "base_uri": "https://localhost:8080/"
        },
        "id": "SoC5cvSPagIB",
        "outputId": "5d70badf-7453-4b93-8d82-17d0c720c1a9"
      },
      "execution_count": 6,
      "outputs": [
        {
          "output_type": "stream",
          "name": "stdout",
          "text": [
            "Collecting yt-dlp\n",
            "  Downloading yt_dlp-2024.12.23-py3-none-any.whl.metadata (172 kB)\n",
            "\u001b[?25l     \u001b[90m━━━━━━━━━━━━━━━━━━━━━━━━━━━━━━━━━━━━━━━━\u001b[0m \u001b[32m0.0/172.1 kB\u001b[0m \u001b[31m?\u001b[0m eta \u001b[36m-:--:--\u001b[0m\r\u001b[2K     \u001b[90m━━━━━━━━━━━━━━━━━━━━━━━━━━━━━━━━━━━━━━━━\u001b[0m \u001b[32m172.1/172.1 kB\u001b[0m \u001b[31m7.0 MB/s\u001b[0m eta \u001b[36m0:00:00\u001b[0m\n",
            "\u001b[?25hDownloading yt_dlp-2024.12.23-py3-none-any.whl (3.2 MB)\n",
            "\u001b[?25l   \u001b[90m━━━━━━━━━━━━━━━━━━━━━━━━━━━━━━━━━━━━━━━━\u001b[0m \u001b[32m0.0/3.2 MB\u001b[0m \u001b[31m?\u001b[0m eta \u001b[36m-:--:--\u001b[0m\r\u001b[2K   \u001b[91m━━━━━━━━━━━━━━━━━━━━━━━━━━━━━━━━━━━━━━━\u001b[0m\u001b[91m╸\u001b[0m \u001b[32m3.2/3.2 MB\u001b[0m \u001b[31m152.4 MB/s\u001b[0m eta \u001b[36m0:00:01\u001b[0m\r\u001b[2K   \u001b[90m━━━━━━━━━━━━━━━━━━━━━━━━━━━━━━━━━━━━━━━━\u001b[0m \u001b[32m3.2/3.2 MB\u001b[0m \u001b[31m75.6 MB/s\u001b[0m eta \u001b[36m0:00:00\u001b[0m\n",
            "\u001b[?25hInstalling collected packages: yt-dlp\n",
            "Successfully installed yt-dlp-2024.12.23\n"
          ]
        }
      ]
    },
    {
      "cell_type": "code",
      "source": [
        "import yt_dlp\n",
        "\n",
        "def download_video(video_url, download_folder):\n",
        "    ydl_opts = {\n",
        "        'outtmpl': f'{download_folder}/%(title)s.%(ext)s',\n",
        "        'format': 'bestvideo+bestaudio/best',\n",
        "    }\n",
        "\n",
        "    try:\n",
        "        with yt_dlp.YoutubeDL(ydl_opts) as ydl:\n",
        "            ydl.download([video_url])\n",
        "        print(\"Download completed!\")\n",
        "    except Exception as e:\n",
        "        print(f\"An error occurred: {e}\")\n",
        "\n",
        "# User input\n",
        "video_url = input(\"Enter the video URL: \")\n",
        "download_folder = input(\"Enter the download folder path: \")\n",
        "\n",
        "download_video(video_url, download_folder)\n"
      ],
      "metadata": {
        "colab": {
          "base_uri": "https://localhost:8080/"
        },
        "id": "syfQ0zb1bN7i",
        "outputId": "7d3ac32f-be96-4cae-85c0-047253394ff5"
      },
      "execution_count": 8,
      "outputs": [
        {
          "output_type": "stream",
          "name": "stdout",
          "text": [
            "Enter the video URL: https://www.youtube.com/watch?v=9QpmsrYO4cc\n",
            "Enter the download folder path: /content/Youtube Downloaded Videos\n",
            "[youtube] Extracting URL: https://www.youtube.com/watch?v=9QpmsrYO4cc\n",
            "[youtube] 9QpmsrYO4cc: Downloading webpage\n",
            "[youtube] 9QpmsrYO4cc: Downloading ios player API JSON\n",
            "[youtube] 9QpmsrYO4cc: Downloading mweb player API JSON\n",
            "[youtube] 9QpmsrYO4cc: Downloading m3u8 information\n",
            "[info] 9QpmsrYO4cc: Downloading 1 format(s): 616+251\n",
            "[hlsnative] Downloading m3u8 manifest\n",
            "[hlsnative] Total fragments: 36\n",
            "[download] Destination: /content/Youtube Downloaded Videos/Tainu Khabar Nahi - Arijit Singh ｜ Munjya ｜ Sharvari, Abhay Verma｜ Sachin-Jigar,Amitabh B ｜ Lyrical.f616.mp4\n",
            "[download] 100% of   74.84MiB in 00:00:05 at 12.80MiB/s                \n",
            "[download] Destination: /content/Youtube Downloaded Videos/Tainu Khabar Nahi - Arijit Singh ｜ Munjya ｜ Sharvari, Abhay Verma｜ Sachin-Jigar,Amitabh B ｜ Lyrical.f251.webm\n",
            "[download] 100% of    3.23MiB in 00:00:00 at 28.35MiB/s  \n",
            "[Merger] Merging formats into \"/content/Youtube Downloaded Videos/Tainu Khabar Nahi - Arijit Singh ｜ Munjya ｜ Sharvari, Abhay Verma｜ Sachin-Jigar,Amitabh B ｜ Lyrical.webm\"\n",
            "Deleting original file /content/Youtube Downloaded Videos/Tainu Khabar Nahi - Arijit Singh ｜ Munjya ｜ Sharvari, Abhay Verma｜ Sachin-Jigar,Amitabh B ｜ Lyrical.f251.webm (pass -k to keep)\n",
            "Deleting original file /content/Youtube Downloaded Videos/Tainu Khabar Nahi - Arijit Singh ｜ Munjya ｜ Sharvari, Abhay Verma｜ Sachin-Jigar,Amitabh B ｜ Lyrical.f616.mp4 (pass -k to keep)\n",
            "Download completed!\n"
          ]
        }
      ]
    }
  ]
}